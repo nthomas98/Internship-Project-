{
  "nbformat": 4,
  "nbformat_minor": 0,
  "metadata": {
    "colab": {
      "name": "Internship Project",
      "provenance": [],
      "collapsed_sections": [],
      "include_colab_link": true
    },
    "kernelspec": {
      "name": "python3",
      "display_name": "Python 3"
    },
    "language_info": {
      "name": "python"
    }
  },
  "cells": [
    {
      "cell_type": "markdown",
      "metadata": {
        "id": "view-in-github",
        "colab_type": "text"
      },
      "source": [
        "<a href=\"https://colab.research.google.com/github/nthomas98/Internship-Project-/blob/main/Internship_Project.ipynb\" target=\"_parent\"><img src=\"https://colab.research.google.com/assets/colab-badge.svg\" alt=\"Open In Colab\"/></a>"
      ]
    },
    {
      "cell_type": "code",
      "metadata": {
        "colab": {
          "base_uri": "https://localhost:8080/"
        },
        "id": "8YcgkrPMhAzW",
        "outputId": "a54f55a9-d14d-4d78-8eff-5a8022a52c73"
      },
      "source": [
        "pip install PyPDF2"
      ],
      "execution_count": 23,
      "outputs": [
        {
          "output_type": "stream",
          "text": [
            "Requirement already satisfied: PyPDF2 in /usr/local/lib/python3.7/dist-packages (1.26.0)\n"
          ],
          "name": "stdout"
        }
      ]
    },
    {
      "cell_type": "code",
      "metadata": {
        "colab": {
          "base_uri": "https://localhost:8080/"
        },
        "id": "l1YmfzZshc_m",
        "outputId": "ee5766d6-0d51-4531-90b5-eef372299029"
      },
      "source": [
        "pip install textract"
      ],
      "execution_count": 24,
      "outputs": [
        {
          "output_type": "stream",
          "text": [
            "Requirement already satisfied: textract in /usr/local/lib/python3.7/dist-packages (1.6.3)\n",
            "Requirement already satisfied: argcomplete==1.10.0 in /usr/local/lib/python3.7/dist-packages (from textract) (1.10.0)\n",
            "Requirement already satisfied: python-pptx==0.6.18 in /usr/local/lib/python3.7/dist-packages (from textract) (0.6.18)\n",
            "Requirement already satisfied: six==1.12.0 in /usr/local/lib/python3.7/dist-packages (from textract) (1.12.0)\n",
            "Requirement already satisfied: docx2txt==0.8 in /usr/local/lib/python3.7/dist-packages (from textract) (0.8)\n",
            "Requirement already satisfied: pdfminer.six==20181108 in /usr/local/lib/python3.7/dist-packages (from textract) (20181108)\n",
            "Requirement already satisfied: SpeechRecognition==3.8.1 in /usr/local/lib/python3.7/dist-packages (from textract) (3.8.1)\n",
            "Requirement already satisfied: extract-msg==0.23.1 in /usr/local/lib/python3.7/dist-packages (from textract) (0.23.1)\n",
            "Requirement already satisfied: xlrd==1.2.0 in /usr/local/lib/python3.7/dist-packages (from textract) (1.2.0)\n",
            "Requirement already satisfied: beautifulsoup4==4.8.0 in /usr/local/lib/python3.7/dist-packages (from textract) (4.8.0)\n",
            "Requirement already satisfied: EbookLib==0.17.1 in /usr/local/lib/python3.7/dist-packages (from textract) (0.17.1)\n",
            "Requirement already satisfied: chardet==3.0.4 in /usr/local/lib/python3.7/dist-packages (from textract) (3.0.4)\n",
            "Requirement already satisfied: soupsieve>=1.2 in /usr/local/lib/python3.7/dist-packages (from beautifulsoup4==4.8.0->textract) (2.2.1)\n",
            "Requirement already satisfied: lxml in /usr/local/lib/python3.7/dist-packages (from EbookLib==0.17.1->textract) (4.2.6)\n",
            "Requirement already satisfied: olefile==0.46 in /usr/local/lib/python3.7/dist-packages (from extract-msg==0.23.1->textract) (0.46)\n",
            "Requirement already satisfied: tzlocal==1.5.1 in /usr/local/lib/python3.7/dist-packages (from extract-msg==0.23.1->textract) (1.5.1)\n",
            "Requirement already satisfied: imapclient==2.1.0 in /usr/local/lib/python3.7/dist-packages (from extract-msg==0.23.1->textract) (2.1.0)\n",
            "Requirement already satisfied: pycryptodome in /usr/local/lib/python3.7/dist-packages (from pdfminer.six==20181108->textract) (3.10.1)\n",
            "Requirement already satisfied: sortedcontainers in /usr/local/lib/python3.7/dist-packages (from pdfminer.six==20181108->textract) (2.4.0)\n",
            "Requirement already satisfied: Pillow>=3.3.2 in /usr/local/lib/python3.7/dist-packages (from python-pptx==0.6.18->textract) (7.1.2)\n",
            "Requirement already satisfied: XlsxWriter>=0.5.7 in /usr/local/lib/python3.7/dist-packages (from python-pptx==0.6.18->textract) (1.4.5)\n",
            "Requirement already satisfied: pytz in /usr/local/lib/python3.7/dist-packages (from tzlocal==1.5.1->extract-msg==0.23.1->textract) (2018.9)\n"
          ],
          "name": "stdout"
        }
      ]
    },
    {
      "cell_type": "code",
      "metadata": {
        "colab": {
          "base_uri": "https://localhost:8080/"
        },
        "id": "lcFD_rElfEdB",
        "outputId": "6a16a449-9ea6-4ae2-b36f-d96e0f395caa"
      },
      "source": [
        "# https://pypi.python.org/pypi/libarchive\n",
        "!apt-get -qq install -y libarchive-dev && pip install -U libarchive\n",
        "import libarchive"
      ],
      "execution_count": 25,
      "outputs": [
        {
          "output_type": "stream",
          "text": [
            "Requirement already satisfied: libarchive in /usr/local/lib/python3.7/dist-packages (0.4.7)\n",
            "Requirement already satisfied: nose in /usr/local/lib/python3.7/dist-packages (from libarchive) (1.3.7)\n"
          ],
          "name": "stdout"
        }
      ]
    },
    {
      "cell_type": "code",
      "metadata": {
        "id": "w9llCG2wSRDx",
        "colab": {
          "base_uri": "https://localhost:8080/"
        },
        "outputId": "7f4e02c0-4f5e-4bfb-f277-3e3e8c30bdbb"
      },
      "source": [
        "# https://pypi.python.org/pypi/pydot\n",
        "!apt-get -qq install -y graphviz && pip install pydot\n",
        "import pydot"
      ],
      "execution_count": 26,
      "outputs": [
        {
          "output_type": "stream",
          "text": [
            "Requirement already satisfied: pydot in /usr/local/lib/python3.7/dist-packages (1.3.0)\n",
            "Requirement already satisfied: pyparsing>=2.1.4 in /usr/local/lib/python3.7/dist-packages (from pydot) (2.4.7)\n"
          ],
          "name": "stdout"
        }
      ]
    },
    {
      "cell_type": "code",
      "metadata": {
        "id": "W-Oy37tYsC68"
      },
      "source": [
        "# Import required libraries\n",
        "import PyPDF2\n",
        "import textract\n",
        "import re\n",
        "import string\n",
        "import pandas as pd\n",
        "import matplotlib.pyplot as plt\n",
        "%matplotlib inline\n",
        "\n",
        "# Open pdf file\n",
        "pdfFileObj = open('Roberto Salazar - Resume.pdf','rb')\n",
        "\n",
        "# Read file\n",
        "pdfReader = PyPDF2.PdfFileReader(pdfFileObj)\n",
        "\n",
        "# Get total number of pages\n",
        "num_pages = pdfReader.numPages\n",
        "\n",
        "# Initialize a count for the number of pages\n",
        "count = 0\n",
        "\n",
        "# Initialize a text empty string variable\n",
        "text = \"\"\n",
        "\n",
        "# Extract text from every page on the file\n",
        "while count < num_pages:\n",
        "    pageObj = pdfReader.getPage(count)\n",
        "    count +=1\n",
        "    text += pageObj.extractText()\n"
      ],
      "execution_count": 27,
      "outputs": []
    },
    {
      "cell_type": "code",
      "metadata": {
        "id": "Th-8dQditIfv"
      },
      "source": [
        "# Convert all strings to lowercase\n",
        "text = text.lower()\n",
        "\n",
        "# Remove numbers\n",
        "text = re.sub(r'\\d+','',text)\n",
        "\n",
        "# Remove punctuation\n",
        "text = text.translate(str.maketrans('','',string.punctuation))\n"
      ],
      "execution_count": 28,
      "outputs": []
    },
    {
      "cell_type": "code",
      "metadata": {
        "id": "t-n77fCFtL8H"
      },
      "source": [
        "# Create dictionary with industrial and system engineering key terms by area\n",
        "terms = {'Quality/Six Sigma':['black belt','capability analysis','control charts','doe','dmaic','fishbone',\n",
        "                              'gage r&r', 'green belt','ishikawa','iso','kaizen','kpi','lean','metrics',\n",
        "                              'pdsa','performance improvement','process improvement','quality',\n",
        "                              'quality circles','quality tools','root cause','six sigma',\n",
        "                              'stability analysis','statistical analysis','tqm'],      \n",
        "        'Operations management':['automation','bottleneck','constraints','cycle time','efficiency','fmea',\n",
        "                                 'machinery','maintenance','manufacture','line balancing','oee','operations',\n",
        "                                 'operations research','optimization','overall equipment effectiveness',\n",
        "                                 'pfmea','process','process mapping','production','resources','safety',\n",
        "                                 'stoppage','value stream mapping','utilization'],\n",
        "        'Supply chain':['abc analysis','apics','customer','customs','delivery','distribution','eoq','epq',\n",
        "                        'fleet','forecast','inventory','logistic','materials','outsourcing','procurement',\n",
        "                        'reorder point','rout','safety stock','scheduling','shipping','stock','suppliers',\n",
        "                        'third party logistics','transport','transportation','traffic','supply chain',\n",
        "                        'vendor','warehouse','wip','work in progress'],\n",
        "        'Project management':['administration','agile','budget','cost','direction','feasibility analysis',\n",
        "                              'finance','kanban','leader','leadership','management','milestones','planning',\n",
        "                              'pmi','pmp','problem','project','risk','schedule','scrum','stakeholders'],\n",
        "        'Data analytics':['analytics','api','aws','big data','busines intelligence','clustering','code',\n",
        "                          'coding','data','database','data mining','data science','deep learning','hadoop',\n",
        "                          'hypothesis test','iot','internet','machine learning','modeling','nosql','nlp',\n",
        "                          'predictive','programming','python','r','sql','tableau','text mining',\n",
        "                          'visualuzation'],\n",
        "        'Healthcare':['adverse events','care','clinic','cphq','ergonomics','healthcare',\n",
        "                      'health care','health','hospital','human factors','medical','near misses',\n",
        "                      'patient','reporting system']}\n",
        "                      "
      ],
      "execution_count": 29,
      "outputs": []
    },
    {
      "cell_type": "code",
      "metadata": {
        "id": "3l9s2icZtfG3"
      },
      "source": [
        "# Initializie score counters for each area\n",
        "quality = 0\n",
        "operations = 0\n",
        "supplychain = 0\n",
        "project = 0\n",
        "data = 0\n",
        "healthcare = 0\n",
        "\n",
        "# Create an empty list where the scores will be stored\n",
        "scores = []\n",
        "\n",
        "# Obtain the scores for each area\n",
        "for area in terms.keys():\n",
        "        \n",
        "    if area == 'Quality/Six Sigma':\n",
        "        for word in terms[area]:\n",
        "            if word in text:\n",
        "                quality +=1\n",
        "        scores.append(quality)\n",
        "        \n",
        "    elif area == 'Operations management':\n",
        "        for word in terms[area]:\n",
        "            if word in text:\n",
        "                operations +=1\n",
        "        scores.append(operations)\n",
        "        \n",
        "    elif area == 'Supply chain':\n",
        "        for word in terms[area]:\n",
        "            if word in text:\n",
        "                supplychain +=1\n",
        "        scores.append(supplychain)\n",
        "        \n",
        "    elif area == 'Project management':\n",
        "        for word in terms[area]:\n",
        "            if word in text:\n",
        "                project +=1\n",
        "        scores.append(project)\n",
        "        \n",
        "    elif area == 'Data analytics':\n",
        "        for word in terms[area]:\n",
        "            if word in text:\n",
        "                data +=1\n",
        "        scores.append(data)\n",
        "        \n",
        "    else:\n",
        "        for word in terms[area]:\n",
        "            if word in text:\n",
        "                healthcare +=1\n",
        "        scores.append(healthcare)"
      ],
      "execution_count": 30,
      "outputs": []
    },
    {
      "cell_type": "code",
      "metadata": {
        "id": "TrqPCA1zuA_V",
        "colab": {
          "base_uri": "https://localhost:8080/",
          "height": 235
        },
        "outputId": "f197426a-991c-4c88-c344-faf954e48aac"
      },
      "source": [
        "# Create a data frame with the scores summary\n",
        "summary = pd.DataFrame(scores,index=terms.keys(),columns=['score']).sort_values(by='score',ascending=False)\n",
        "summary"
      ],
      "execution_count": 31,
      "outputs": [
        {
          "output_type": "execute_result",
          "data": {
            "text/html": [
              "<div>\n",
              "<style scoped>\n",
              "    .dataframe tbody tr th:only-of-type {\n",
              "        vertical-align: middle;\n",
              "    }\n",
              "\n",
              "    .dataframe tbody tr th {\n",
              "        vertical-align: top;\n",
              "    }\n",
              "\n",
              "    .dataframe thead th {\n",
              "        text-align: right;\n",
              "    }\n",
              "</style>\n",
              "<table border=\"1\" class=\"dataframe\">\n",
              "  <thead>\n",
              "    <tr style=\"text-align: right;\">\n",
              "      <th></th>\n",
              "      <th>score</th>\n",
              "    </tr>\n",
              "  </thead>\n",
              "  <tbody>\n",
              "    <tr>\n",
              "      <th>Data analytics</th>\n",
              "      <td>1</td>\n",
              "    </tr>\n",
              "    <tr>\n",
              "      <th>Quality/Six Sigma</th>\n",
              "      <td>0</td>\n",
              "    </tr>\n",
              "    <tr>\n",
              "      <th>Operations management</th>\n",
              "      <td>0</td>\n",
              "    </tr>\n",
              "    <tr>\n",
              "      <th>Supply chain</th>\n",
              "      <td>0</td>\n",
              "    </tr>\n",
              "    <tr>\n",
              "      <th>Project management</th>\n",
              "      <td>0</td>\n",
              "    </tr>\n",
              "    <tr>\n",
              "      <th>Healthcare</th>\n",
              "      <td>0</td>\n",
              "    </tr>\n",
              "  </tbody>\n",
              "</table>\n",
              "</div>"
            ],
            "text/plain": [
              "                       score\n",
              "Data analytics             1\n",
              "Quality/Six Sigma          0\n",
              "Operations management      0\n",
              "Supply chain               0\n",
              "Project management         0\n",
              "Healthcare                 0"
            ]
          },
          "metadata": {
            "tags": []
          },
          "execution_count": 31
        }
      ]
    },
    {
      "cell_type": "code",
      "metadata": {
        "colab": {
          "base_uri": "https://localhost:8080/",
          "height": 594
        },
        "id": "Ut1p1NEiir7W",
        "outputId": "faf63076-91ff-4104-d034-cd73970cae9e"
      },
      "source": [
        "# Create pie chart visualization\n",
        "pie = plt.figure(figsize=(10,10))\n",
        "plt.pie(summary['score'], labels=summary.index, explode = (0.1,0,0,0,0,0), autopct='%1.0f%%',shadow=True,startangle=90)\n",
        "plt.title('Industrial Engineering Candidate - Resume Decomposition by Areas')\n",
        "plt.axis('equal')\n",
        "plt.show()\n",
        "\n",
        "# Save pie chart as a .png file\n",
        "pie.savefig('resume_screening_results.png')"
      ],
      "execution_count": 32,
      "outputs": [
        {
          "output_type": "display_data",
          "data": {
            "image/png": "[encoded data removed]",
            "text/plain": [
              "<Figure size 720x720 with 1 Axes>"
            ]
          },
          "metadata": {
            "tags": []
          }
        }
      ]
    },
    {
      "cell_type": "markdown",
      "metadata": {
        "id": "Eh4hqP0X6AFo"
      },
      "source": [
        "# New Section"
      ]
    },
    {
      "cell_type": "markdown",
      "metadata": {
        "id": "yrlp1jb9u-y3"
      },
      "source": [
        ""
      ]
    }
  ]
}